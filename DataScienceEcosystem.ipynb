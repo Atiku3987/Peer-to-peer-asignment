{
 "cells": [
  {
   "cell_type": "markdown",
   "id": "dcc49142-28cb-44bd-904d-501c1766fddc",
   "metadata": {},
   "source": [
    "# Data Science Tools and Ecosystem"
   ]
  },
  {
   "cell_type": "markdown",
   "id": "9359a98d-42d6-4bf9-8739-04766466edf8",
   "metadata": {},
   "source": [
    "# In this notebook, Data Science Tools and Ecosystem are summarized."
   ]
  },
  {
   "cell_type": "markdown",
   "id": "dddd25ce-bd6a-47e0-be14-f021d414a72e",
   "metadata": {},
   "source": [
    "#Objectives:\n",
    "\n",
    "* Python\n",
    "\n",
    "* R\n",
    "\n",
    "* Java"
   ]
  },
  {
   "cell_type": "markdown",
   "id": "1b890320-8635-4424-be91-40bfe245c55d",
   "metadata": {},
   "source": [
    "#Some of the popular languages that Data Scientists use are:\n",
    "\n",
    "1. Python\n",
    "2. R\n",
    "3. Java\n",
    "4. Julia"
   ]
  },
  {
   "cell_type": "markdown",
   "id": "4d2dc5d6-3cda-4a81-bb1e-18c85b4cc5c5",
   "metadata": {},
   "source": [
    "#Some of the commonly used libraries used by Data Scientists include:\n",
    "\n",
    "1. Scikit\n",
    "2. TensorFlow\n",
    "3. Pytorch"
   ]
  },
  {
   "cell_type": "markdown",
   "id": "2c6766da-552d-46cb-872e-4c6450ab702f",
   "metadata": {},
   "source": [
    "|Data Science Tools|\n",
    "--------------------\n",
    "|RStudio|\n",
    "|Apache Spark|\n",
    "|Apache Hadoop|"
   ]
  },
  {
   "cell_type": "markdown",
   "id": "b288310c-ff22-4b2a-929d-8f9ef6553a0f",
   "metadata": {},
   "source": [
    "### Below are a few examples of evaluating arithmetic expressions in Python"
   ]
  },
  {
   "cell_type": "code",
   "execution_count": 1,
   "id": "84a745e6-7a82-4710-abfd-79b03f502f30",
   "metadata": {},
   "outputs": [
    {
     "data": {
      "text/plain": [
       "17"
      ]
     },
     "execution_count": 1,
     "metadata": {},
     "output_type": "execute_result"
    }
   ],
   "source": [
    "#This a simple arithmetic expression to mutiply then add integers.\n",
    "\n",
    "(3*4)+5"
   ]
  },
  {
   "cell_type": "code",
   "execution_count": 2,
   "id": "82ea52f9-22a0-4b7c-ac4b-771befeedb13",
   "metadata": {},
   "outputs": [
    {
     "data": {
      "text/plain": [
       "3.3333333333333335"
      ]
     },
     "execution_count": 2,
     "metadata": {},
     "output_type": "execute_result"
    }
   ],
   "source": [
    "#This will convert 200 minutes to hours by diving by 60.\n",
    "200/60"
   ]
  },
  {
   "cell_type": "markdown",
   "id": "99287df4-0411-4ccb-ad20-46603bbe835d",
   "metadata": {},
   "source": [
    "## Author\n",
    "ATIKU UMAR"
   ]
  }
 ],
 "metadata": {
  "kernelspec": {
   "display_name": "Python",
   "language": "python",
   "name": "conda-env-python-py"
  },
  "language_info": {
   "codemirror_mode": {
    "name": "ipython",
    "version": 3
   },
   "file_extension": ".py",
   "mimetype": "text/x-python",
   "name": "python",
   "nbconvert_exporter": "python",
   "pygments_lexer": "ipython3",
   "version": "3.7.12"
  }
 },
 "nbformat": 4,
 "nbformat_minor": 5
}
